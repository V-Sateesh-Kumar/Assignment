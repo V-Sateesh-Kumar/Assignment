{
 "cells": [
  {
   "cell_type": "markdown",
   "id": "7396c56d",
   "metadata": {},
   "source": [
    "# My Jupter Notebook on IBM Watson Studio"
   ]
  },
  {
   "cell_type": "markdown",
   "id": "ee0bb23f",
   "metadata": {},
   "source": [
    "__VARADARAJULA SATEESH KUMAR REDDY__"
   ]
  },
  {
   "cell_type": "markdown",
   "id": "8a090709",
   "metadata": {},
   "source": [
    "_I am interested in data science because I love playing with the data_"
   ]
  },
  {
   "cell_type": "markdown",
   "id": "283f83e6",
   "metadata": {},
   "source": [
    "### The following code addition of two numbers:"
   ]
  },
  {
   "cell_type": "code",
   "execution_count": 3,
   "id": "cf73abbf",
   "metadata": {},
   "outputs": [
    {
     "name": "stdout",
     "output_type": "stream",
     "text": [
      "Enter the first Number : \n",
      "8\n",
      "Enter the second Number : \n",
      "7\n",
      "Sum Result = 15\n"
     ]
    }
   ],
   "source": [
    "print(\"Enter the first Number : \")\n",
    "a = int(input())\n",
    "print(\"Enter the second Number : \")\n",
    "b = int(input())\n",
    "print(\"Sum Result =\", a+b)"
   ]
  },
  {
   "cell_type": "code",
   "execution_count": null,
   "id": "8bf2fda4",
   "metadata": {},
   "outputs": [],
   "source": []
  }
 ],
 "metadata": {
  "kernelspec": {
   "display_name": "Python 3 (ipykernel)",
   "language": "python",
   "name": "python3"
  },
  "language_info": {
   "codemirror_mode": {
    "name": "ipython",
    "version": 3
   },
   "file_extension": ".py",
   "mimetype": "text/x-python",
   "name": "python",
   "nbconvert_exporter": "python",
   "pygments_lexer": "ipython3",
   "version": "3.9.12"
  }
 },
 "nbformat": 4,
 "nbformat_minor": 5
}
